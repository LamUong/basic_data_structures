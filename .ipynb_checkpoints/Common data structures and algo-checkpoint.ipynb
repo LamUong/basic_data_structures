{
 "cells": [
  {
   "cell_type": "code",
   "execution_count": 14,
   "metadata": {
    "collapsed": true
   },
   "outputs": [],
   "source": [
    "#doubly linked linkedlist python \n",
    "\n",
    "class node:\n",
    "    def __init__(self, v):\n",
    "        self.value = v\n",
    "        self.next = None\n",
    "        self.prev = None\n",
    "        \n",
    "class linked_list:\n",
    "    \n",
    "    def __init__(self):\n",
    "        self.length = 0\n",
    "        self.head = None\n",
    "        self.tail = None\n",
    "        \n",
    "    def add_node(self, n):\n",
    "        if self.length == 0:\n",
    "            self.head = n\n",
    "            self.tail = n\n",
    "        else:\n",
    "            self.tail.next = n\n",
    "            n.prev = self.tail\n",
    "            self.tail = n\n",
    "        self.length += 1\n",
    "    \n",
    "    def remove_node(self):\n",
    "        if self.length == 0:\n",
    "            return None\n",
    "        toreturn = self.tail\n",
    "        self.tail = self.tail.prev\n",
    "        self.length -=1\n",
    "        return toreturn \n"
   ]
  },
  {
   "cell_type": "code",
   "execution_count": 16,
   "metadata": {},
   "outputs": [
    {
     "name": "stdout",
     "output_type": "stream",
     "text": [
      "10\n",
      "20\n",
      "1\n",
      "30\n",
      "30\n",
      "20\n",
      "1\n",
      "10\n"
     ]
    }
   ],
   "source": [
    "# queue and stack\n",
    "\n",
    "from collections import deque\n",
    "q = deque()\n",
    "q.appendleft(10)\n",
    "q.appendleft(20)\n",
    "q.appendleft(30)\n",
    "print(q.pop())\n",
    "print(q.pop())\n",
    "print(len(q))\n",
    "print(q.pop())\n",
    "\n",
    "s = deque()\n",
    "s.append(10)\n",
    "s.append(20)\n",
    "s.append(30)\n",
    "print(s.pop())\n",
    "print(s.pop())\n",
    "print(len(s))\n",
    "print(s.pop())"
   ]
  },
  {
   "cell_type": "code",
   "execution_count": 22,
   "metadata": {},
   "outputs": [
    {
     "name": "stdout",
     "output_type": "stream",
     "text": [
      "True\n",
      "False\n",
      "(2, 3, 2) 2\n",
      "(2, 3, 2) 2\n"
     ]
    }
   ],
   "source": [
    "# hashmap\n",
    "\n",
    "d = {}\n",
    "d['key'] = 'value'\n",
    "d[(2,3,2)] = 2\n",
    "#all immutable objects are hashable, since they are not memory location but values/objects\n",
    "\n",
    "#check if in\n",
    "print('key' in d)\n",
    "\n",
    "#delete key\n",
    "del d['key']\n",
    "print('key' in d)\n",
    "\n",
    "#iterate over dictionary\n",
    "for key, value in d.items():\n",
    "    print(key,value)\n",
    "\n",
    "for key in d:\n",
    "    print(key,d[key])"
   ]
  },
  {
   "cell_type": "code",
   "execution_count": 29,
   "metadata": {},
   "outputs": [
    {
     "data": {
      "text/plain": [
       "({1, 2, 3, 5}, {2, 3})"
      ]
     },
     "execution_count": 29,
     "metadata": {},
     "output_type": "execute_result"
    }
   ],
   "source": [
    "### set\n",
    "s = set()\n",
    "s.add(3)\n",
    "3 in s\n",
    "s.remove(3)\n",
    "3 in s\n",
    "len(s)\n",
    "s1,s2 = set([1,2,3]), set([2,3,5])\n",
    "s1.union(s2), s1.intersection(s2)"
   ]
  },
  {
   "cell_type": "code",
   "execution_count": 30,
   "metadata": {
    "collapsed": true
   },
   "outputs": [],
   "source": [
    "### circular buffer\n",
    "### first in first out\n",
    "### have a max size\n",
    "### support append and pop\n",
    "\n",
    "class circular_buffer:\n",
    "    def __init__(self, max_len):\n",
    "        self.l = [None for i in range(max_len)]\n",
    "        self.max_len = max_len\n",
    "        self.start = 0\n",
    "        self.end = 0\n",
    "    \n",
    "    def num_elements(self):\n",
    "        return self.end - self.start \n",
    "    \n",
    "    def remove(self):\n",
    "        #empty_queue\n",
    "        if self.end == self.start:\n",
    "            return None\n",
    "        \n",
    "        if self.start > self.end:\n",
    "            raise RuntimeError('A queue cannot have negative number of elements')\n",
    "            \n",
    "        ##else\n",
    "        index_to_return = self.start % self.max_len\n",
    "        toreturn = self.l[index_to_return]\n",
    "        self.l[index_to_return] = None\n",
    "        self.start += 1\n",
    "        return toreturn\n",
    "    \n",
    "    def (self, v):\n",
    "        index_to_add = (self.end + 1) % self.max_len\n",
    "        self.l[index_to_add] = v\n",
    "        self.end += 1\n",
    "        \n",
    "        \n",
    "        \n"
   ]
  },
  {
   "cell_type": "code",
   "execution_count": 58,
   "metadata": {},
   "outputs": [
    {
     "data": {
      "text/plain": [
       "1"
      ]
     },
     "execution_count": 58,
     "metadata": {},
     "output_type": "execute_result"
    }
   ],
   "source": [
    "import heapq\n",
    "l = [6,5,4,3,2,1]\n",
    "heapq.heapify(l)\n",
    "l\n",
    "heapq.heappush(l,2)\n",
    "heapq.heappush(l,100)\n",
    "heapq.heappop(l)"
   ]
  },
  {
   "cell_type": "code",
   "execution_count": null,
   "metadata": {
    "collapsed": true
   },
   "outputs": [],
   "source": [
    "class node:\n",
    "    def __init__(self, data):\n",
    "        self.left = None\n",
    "        self.right = None\n",
    "        self.data = data\n",
    "        \n",
    "class bst:\n",
    "    def __ini__(self):\n",
    "        self.root = None\n",
    "    \n",
    "    def recurse_add(current_node, value):\n",
    "        if current_node == None:\n",
    "            current_node = node(value)\n",
    "        elif value <= current_node.data:\n",
    "            recurse_add(current_node.left, value)\n",
    "        else:\n",
    "            recurse_add(current_node.right, value)\n",
    "    \n",
    "    def add(self, value):\n",
    "        recurse_add(self.root, value)\n",
    "    \n",
    "    def find_value(current_node, value):\n",
    "        if current_node == None:\n",
    "            return None\n",
    "        if current_node.data == value:\n",
    "            return current_node\n",
    "        if value <= current_node.data:\n",
    "            return find_value(current_node.left, value)\n",
    "        return find_value(current_node.right, value)\n",
    "    \n",
    "    def find(self, value):\n",
    "        return find_value(self.root, value)\n",
    "            \n",
    "    \n",
    "    \n",
    "        "
   ]
  },
  {
   "cell_type": "code",
   "execution_count": 1,
   "metadata": {
    "collapsed": true
   },
   "outputs": [],
   "source": [
    "### graph, tree in python \n",
    "# best to represent using a dictionary with key is a node value ( string, int ) and value is a set of all the adjacent nodes\n",
    "# adjacency list may be easier if undirected dense graph\n",
    "g = {\n",
    "    'a':set(['b','d','c']),\n",
    "    'b':set(['a']),\n",
    "}"
   ]
  },
  {
   "cell_type": "markdown",
   "metadata": {},
   "source": [
    "### "
   ]
  },
  {
   "cell_type": "code",
   "execution_count": 6,
   "metadata": {
    "collapsed": true
   },
   "outputs": [],
   "source": [
    "### prefix tree\n",
    "class node:\n",
    "    def __init__(self, value):\n",
    "        self.value = value\n",
    "        self.children = {}\n",
    "        self.end = False\n",
    "        \n",
    "    def set_end(self, boolean):\n",
    "        self.end = boolean or self.end\n",
    "    \n",
    "    def add_child(self, value, end):\n",
    "        if value not in self.children:\n",
    "            self.children[value] = node(value)\n",
    "        self.children[value].set_end(end)\n",
    "        return self.children[value]\n",
    "    \n",
    "\n",
    "class prefix_tree:\n",
    "    def __init__(self):\n",
    "        self.root = node(True)\n",
    "    \n",
    "    def add_word(self, word):\n",
    "        current = self.root\n",
    "        for i in range(0,len(word)):\n",
    "            char = word[i]\n",
    "            if i != len(word)-1:\n",
    "                current = current.add_child(char,False)\n",
    "            else:\n",
    "                current = current.add_child(char,True)\n",
    "    \n",
    "    def check_presence(self, word):\n",
    "        current = self.root\n",
    "        for char in word:\n",
    "            if char not in current.children:\n",
    "                return False\n",
    "            current = current.children[char]\n",
    "        if current.end == False:\n",
    "            return False\n",
    "        return True\n",
    "            \n",
    "        \n",
    "p = prefix_tree()\n",
    "for ele in ['foo', 'bar', 'baz', 'barz']:\n",
    "    p.add_word(ele)\n",
    "p.check_presence('baz')"
   ]
  },
  {
   "cell_type": "code",
   "execution_count": null,
   "metadata": {
    "collapsed": true
   },
   "outputs": [],
   "source": [
    "### suffix tree and compressed suffix tree\n",
    "### well too much work. :P Just know that a suffix tree is a prefix tree contains all the suffixes of a word\n",
    "### build a dumb suffix tree, know that more efficient algorithm is present"
   ]
  },
  {
   "cell_type": "code",
   "execution_count": 2,
   "metadata": {
    "collapsed": true
   },
   "outputs": [],
   "source": [
    "### LRU cache python\n",
    "'''\n",
    "An OrderedDict is a dictionary subclass that remembers the order that keys were first inserted. \n",
    "The only difference between dict() and OrderedDict() is that:\n",
    "'''\n",
    "from collections import OrderedDict\n",
    "class LRU():\n",
    "    'Limit size, evicting the least recently looked-up key when full'\n",
    "\n",
    "    def __init__(self, maxsize):\n",
    "        self.maxsize = maxsize\n",
    "        self.d = OrderedDict()\n",
    "\n",
    "    def get(self, key):\n",
    "        if key not in self.d:\n",
    "            return None\n",
    "        self.d.move_to_end(key)\n",
    "        return self.d[key]\n",
    "\n",
    "    def set(self, key, value):\n",
    "        self.d[key] = value\n",
    "        if len(self.d) > self.maxsize:\n",
    "            self.d.popitem(last = False)"
   ]
  },
  {
   "cell_type": "code",
   "execution_count": 12,
   "metadata": {
    "collapsed": true
   },
   "outputs": [],
   "source": [
    "def merge(l1,l2):\n",
    "    if l1 == []:\n",
    "        return l2\n",
    "    if l2 == []:\n",
    "        return l1\n",
    "    c1 = 0\n",
    "    c2 = 0\n",
    "    toreturn = []\n",
    "    while len(toreturn) < len(l1)+len(l2):\n",
    "        if c1 == len(l1):\n",
    "            toreturn.append(l2[c2])\n",
    "            c2+=1\n",
    "        elif c2 == len(l2):\n",
    "            toreturn.append(l1[c1])\n",
    "            c1+=1\n",
    "        elif l1[c1] < l2[c2]:\n",
    "            toreturn.append(l1[c1])\n",
    "            c1+=1\n",
    "        else:\n",
    "            toreturn.append(l2[c2])\n",
    "            c2+=1\n",
    "    return toreturn\n",
    "    \n",
    "def merge_sort(l):\n",
    "    if len(l) <= 1:\n",
    "        return l\n",
    "    mid = len(l)//2\n",
    "    return merge( merge_sort(l[:mid]) , merge_sort(l[mid:]))\n"
   ]
  },
  {
   "cell_type": "code",
   "execution_count": 13,
   "metadata": {
    "collapsed": true
   },
   "outputs": [],
   "source": [
    "###binary search\n",
    "\n",
    "def bs(l, start, end, value):\n",
    "    mid = (start+end)//2\n",
    "    if end<start:\n",
    "        return None\n",
    "    if l[mid] == value:\n",
    "        return mid\n",
    "    if l[mid] < value:\n",
    "        return bs(l, mid+1, end, value)\n",
    "    return bs(l, start, mid-1, value)\n"
   ]
  },
  {
   "cell_type": "code",
   "execution_count": 14,
   "metadata": {},
   "outputs": [
    {
     "data": {
      "text/plain": [
       "[-1, 1, 1, 1, 3, 4, 231]"
      ]
     },
     "execution_count": 14,
     "metadata": {},
     "output_type": "execute_result"
    }
   ],
   "source": [
    "merge_sort([3,1,4,1,231,-1,1])"
   ]
  },
  {
   "cell_type": "code",
   "execution_count": 16,
   "metadata": {
    "collapsed": true
   },
   "outputs": [],
   "source": [
    "def quicksort(l):\n",
    "    if len(l) <=1:\n",
    "        return l\n",
    "    pivot = l[0]\n",
    "    the_rest = l[1:]\n",
    "    first_half = [e for e in the_rest if e <= pivot]\n",
    "    second_half = [e for e in the_rest if e > pivot]\n",
    "    return quicksort(first_half) + [pivot]+ quicksort(second_half)"
   ]
  },
  {
   "cell_type": "code",
   "execution_count": 17,
   "metadata": {},
   "outputs": [
    {
     "data": {
      "text/plain": [
       "[-1, 1, 1, 1, 3, 4, 231]"
      ]
     },
     "execution_count": 17,
     "metadata": {},
     "output_type": "execute_result"
    }
   ],
   "source": [
    "quicksort([3,1,4,1,231,-1,1])"
   ]
  },
  {
   "cell_type": "code",
   "execution_count": 4,
   "metadata": {},
   "outputs": [
    {
     "name": "stdout",
     "output_type": "stream",
     "text": [
      "A\n",
      "B\n",
      "C\n",
      "E\n",
      "D\n",
      "F\n",
      "G\n",
      "None\n",
      "A\n",
      "E\n",
      "D\n",
      "C\n",
      "G\n",
      "F\n",
      "B\n",
      "None\n"
     ]
    }
   ],
   "source": [
    "# sample graph implemented as a dictionary\n",
    "graph = {'A': ['B', 'C', 'E'],\n",
    "         'B': ['A','D', 'E'],\n",
    "         'C': ['A', 'F', 'G'],\n",
    "         'D': ['B'],\n",
    "         'E': ['A', 'B','D'],\n",
    "         'F': ['C'],\n",
    "         'G': ['C']\n",
    "        }\n",
    "from collections import deque\n",
    "def bfs(graph, start):\n",
    "    visited = set()\n",
    "    q = deque()\n",
    "    q.append(start)\n",
    "    visited.add(start)\n",
    "    \n",
    "    while len(q) >0:\n",
    "        current = q.popleft() \n",
    "        print(current)\n",
    "        for ele in graph[current]:\n",
    "            if ele not in visited:\n",
    "                q.append(ele)\n",
    "                visited.add(ele)\n",
    "print(bfs(graph, 'A'))\n",
    "    \n",
    "def dfs(graph, start):\n",
    "    s = deque()\n",
    "    visited = set()\n",
    "    s.append(start)\n",
    "    visited.add(start)\n",
    "    while len(s) >0:\n",
    "        current = s.pop()\n",
    "        print(current)\n",
    "        for ele in graph[current]:\n",
    "            if ele not in visited:\n",
    "                s.append(ele)\n",
    "                visited.add(ele)\n",
    "print(dfs(graph, 'A'))"
   ]
  },
  {
   "cell_type": "markdown",
   "metadata": {},
   "source": [
    "def cycle_detection(graph):\n"
   ]
  },
  {
   "cell_type": "code",
   "execution_count": 12,
   "metadata": {},
   "outputs": [
    {
     "name": "stdout",
     "output_type": "stream",
     "text": [
      "hi\n"
     ]
    },
    {
     "data": {
      "text/plain": [
       "True"
      ]
     },
     "execution_count": 12,
     "metadata": {},
     "output_type": "execute_result"
    }
   ],
   "source": [
    "graph = {'A': ['B', 'C', 'E'],\n",
    "         'B': ['D', 'E'],\n",
    "         'D': ['A'],\n",
    "         'E': [],\n",
    "         'C': []\n",
    "        }\n",
    "visited = set()\n",
    "cycle_detected = False\n",
    "\n",
    "def cycle_detection(graph, current, traversed):\n",
    "    for ele in graph[current]:\n",
    "        if ele in traversed:\n",
    "            global cycle_detected\n",
    "            cycle_detected = True\n",
    "            return None\n",
    "        elif ele not in visited:\n",
    "            visited.add(ele)\n",
    "            traversed.add(ele)\n",
    "            cycle_detection(graph, ele, traversed)\n",
    "            traversed.remove(ele)\n",
    "            \n",
    "for ele in graph:\n",
    "    if ele not in visited:\n",
    "        cycle_detection(graph, ele, set())\n",
    "cycle_detected           \n",
    "        \n",
    "    \n",
    "    "
   ]
  },
  {
   "cell_type": "code",
   "execution_count": 2,
   "metadata": {},
   "outputs": [
    {
     "data": {
      "text/plain": [
       "['A', 'B', 'C', 'D', 'E']"
      ]
     },
     "execution_count": 2,
     "metadata": {},
     "output_type": "execute_result"
    }
   ],
   "source": [
    "graph = {'A': ['B', 'C', 'E'],\n",
    "         'B': ['D', 'E'],\n",
    "         'D': [],\n",
    "         'E': [],\n",
    "         'C': []\n",
    "        }\n",
    "from collections import deque\n",
    "def topo_sort(graph):\n",
    "    \n",
    "    output = []\n",
    "    zero_indegree = deque()\n",
    "    count_graph = {key:0 for key in graph}\n",
    "    \n",
    "    for key, value in graph.items():\n",
    "        for ele in value:\n",
    "            count_graph[ele] +=1\n",
    "    \n",
    "    for key, value in count_graph.items():\n",
    "        if value ==0:\n",
    "            zero_indegree.appendleft(key)\n",
    "    \n",
    "    while len(zero_indegree) >0:\n",
    "        current = zero_indegree.pop()\n",
    "        output.append(current)\n",
    "        for neighbor in graph[current]:\n",
    "            count_graph[neighbor] -= 1\n",
    "            if count_graph[neighbor] == 0:\n",
    "                zero_indegree.appendleft(neighbor)\n",
    "    \n",
    "    for key, value in count_graph.items():\n",
    "        if value > 0:\n",
    "            return 'Cycle detected'\n",
    "    \n",
    "    return output\n",
    "topo_sort(graph)        \n",
    "        \n",
    "    "
   ]
  },
  {
   "cell_type": "code",
   "execution_count": 7,
   "metadata": {},
   "outputs": [
    {
     "data": {
      "text/plain": [
       "{'A': 0, 'B': 10, 'C': 7, 'D': 13, 'E': 5}"
      ]
     },
     "execution_count": 7,
     "metadata": {},
     "output_type": "execute_result"
    }
   ],
   "source": [
    "### shortest path bfs if unweighted graph\n",
    "### weighted graph\n",
    "graph = {'A': [('B',10), ('C',7), ('E',5)],\n",
    "         'B': [('D',3), ('E',2)],\n",
    "         'D': [],\n",
    "         'E': [],\n",
    "         'C': []\n",
    "        }\n",
    "import heapq\n",
    "\n",
    "def djikstra(graph, start):\n",
    "    dist = {key: float('inf') for key in graph}\n",
    "    dist[start] = 0\n",
    "    shortest_found = set()\n",
    "    heap = [(value, key) for key, value in dist.items()]\n",
    "    while len(heap) > 0:\n",
    "        distance, node = heapq.heappop(heap)\n",
    "        \n",
    "        if node not in shortest_found:\n",
    "            \n",
    "            shortest_found.add(node)\n",
    "            dist[node] = distance\n",
    "            \n",
    "            for neighbor, edge in graph[node]:\n",
    "                if distance + edge < dist[neighbor] and neighbor not in shortest_found:\n",
    "                    dist[neighbor] = distance + edge\n",
    "                    heapq.heappush(heap, ( distance + edge, neighbor))\n",
    "    return dist\n",
    "\n",
    "djikstra(graph,'A')              \n",
    "                    \n",
    "            \n",
    "# run time: size of the heap is at most V + E, since there is at most E updates. \n",
    "# each time pop will pop 1 item\n",
    "# to enter in the update loop, only V times , since checking the shortest found\n",
    "# (V+E) log (V+E) +  E log(V+E)\n",
    "# at most (V+E) log (V+E) = (V+E) log (V) ( since log x^2 = 2 log x)\n",
    "# possible improvement can be update and delete accordingly instead of just push in"
   ]
  },
  {
   "cell_type": "code",
   "execution_count": null,
   "metadata": {
    "collapsed": true
   },
   "outputs": [],
   "source": []
  },
  {
   "cell_type": "code",
   "execution_count": null,
   "metadata": {
    "collapsed": true
   },
   "outputs": [],
   "source": []
  }
 ],
 "metadata": {
  "kernelspec": {
   "display_name": "Python 3",
   "language": "python",
   "name": "python3"
  },
  "language_info": {
   "codemirror_mode": {
    "name": "ipython",
    "version": 3
   },
   "file_extension": ".py",
   "mimetype": "text/x-python",
   "name": "python",
   "nbconvert_exporter": "python",
   "pygments_lexer": "ipython3",
   "version": "3.6.3"
  }
 },
 "nbformat": 4,
 "nbformat_minor": 2
}
